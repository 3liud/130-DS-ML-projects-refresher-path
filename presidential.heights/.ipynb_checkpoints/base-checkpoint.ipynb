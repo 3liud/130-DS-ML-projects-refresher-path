{
 "cells": [
  {
   "cell_type": "code",
   "execution_count": 18,
   "metadata": {},
   "outputs": [],
   "source": [
    "# importing libraries\n",
    "import pandas as pd\n",
    "import numpy as np\n",
    "import matplotlib.pyplot as plt\n",
    "import seaborn as sns"
   ]
  },
  {
   "cell_type": "code",
   "execution_count": 13,
   "metadata": {},
   "outputs": [
    {
     "name": "stdout",
     "output_type": "stream",
     "text": [
      "   order               name  height(cm)\n",
      "0      1  George Washington         189\n",
      "1      2         John Adams         170\n",
      "2      3   Thomas Jefferson         189\n",
      "3      4      James Madison         163\n",
      "4      5       James Monroe         183\n",
      "\n",
      "\n",
      "    order               name  height(cm)\n",
      "37     40      Ronald Reagan         185\n",
      "38     41  George H. W. Bush         188\n",
      "39     42       Bill Clinton         188\n",
      "40     43     George W. Bush         182\n",
      "41     44       Barack Obama         185\n"
     ]
    }
   ],
   "source": [
    "data = pd.read_csv(\"heights.csv\")\n",
    "print(data.head())\n",
    "print(\"\\n\")\n",
    "print(data.tail())"
   ]
  },
  {
   "cell_type": "code",
   "execution_count": 14,
   "metadata": {},
   "outputs": [
    {
     "name": "stdout",
     "output_type": "stream",
     "text": [
      "[189 170 189 163 183 171 185 168 173 183 173 173 175 178 183 193 178 173\n",
      " 174 183 183 168 170 178 182 180 183 178 182 188 175 179 183 193 182 183\n",
      " 177 185 188 188 182 185]\n"
     ]
    }
   ],
   "source": [
    "height = np.array(data[\"height(cm)\"])\n",
    "print(height)"
   ]
  },
  {
   "cell_type": "code",
   "execution_count": 15,
   "metadata": {},
   "outputs": [
    {
     "name": "stdout",
     "output_type": "stream",
     "text": [
      "mean =  179.73809523809524\n",
      "standard deviation =  6.931843442745892\n",
      "Min height =  163\n",
      "max height =  193\n"
     ]
    }
   ],
   "source": [
    "#descriptive stats\n",
    "\n",
    "print(\"mean = \", height.mean())\n",
    "print(\"standard deviation = \", height.std())\n",
    "print(\"Min height = \", height.min())\n",
    "print(\"max height = \", height.max())"
   ]
  },
  {
   "cell_type": "code",
   "execution_count": 17,
   "metadata": {},
   "outputs": [
    {
     "name": "stdout",
     "output_type": "stream",
     "text": [
      "25th percentile =  174.25\n",
      "median =  182.0\n",
      "75th percentile =  183.0\n"
     ]
    }
   ],
   "source": [
    "# quantiles\n",
    "\n",
    "print(\"25th percentile = \", np.percentile(height, 25))\n",
    "print(\"median = \", np.median(height))\n",
    "print(\"75th percentile = \", np.percentile(height, 75))"
   ]
  },
  {
   "cell_type": "code",
   "execution_count": 19,
   "metadata": {},
   "outputs": [],
   "source": [
    "sns.set()"
   ]
  },
  {
   "cell_type": "code",
   "execution_count": 20,
   "metadata": {},
   "outputs": [
    {
     "data": {
      "image/png": "[encoded data removed]",
      "text/plain": [
       "<Figure size 432x288 with 1 Axes>"
      ]
     },
     "metadata": {},
     "output_type": "display_data"
    }
   ],
   "source": [
    "plt.hist(height)\n",
    "plt.title(\"Height Distribution of presidnets of USA\")\n",
    "plt.xlabel(\"height in CM\")\n",
    "plt.ylabel(\"Number\")\n",
    "plt.show()"
   ]
  },
  {
   "cell_type": "code",
   "execution_count": null,
   "metadata": {},
   "outputs": [],
   "source": []
  }
 ],
 "metadata": {
  "kernelspec": {
   "display_name": "Python 3",
   "language": "python",
   "name": "python3"
  },
  "language_info": {
   "codemirror_mode": {
    "name": "ipython",
    "version": 3
   },
   "file_extension": ".py",
   "mimetype": "text/x-python",
   "name": "python",
   "nbconvert_exporter": "python",
   "pygments_lexer": "ipython3",
   "version": "3.8.5"
  }
 },
 "nbformat": 4,
 "nbformat_minor": 4
}
